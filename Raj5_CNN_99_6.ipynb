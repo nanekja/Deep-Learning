{
  "nbformat": 4,
  "nbformat_minor": 0,
  "metadata": {
    "colab": {
      "name": "Assignment5_CNN.ipynb",
      "version": "0.3.2",
      "provenance": [],
      "collapsed_sections": []
    },
    "kernelspec": {
      "name": "python3",
      "display_name": "Python 3"
    },
    "accelerator": "GPU"
  },
  "cells": [
    {
      "cell_type": "markdown",
      "metadata": {
        "id": "bqoAa9JfO1hF",
        "colab_type": "text"
      },
      "source": [
        "## This code applies Keras mased CNN model to classify MNIST dataset. Achieved 99.6% validation accuracy"
      ]
    },
    {
      "cell_type": "markdown",
      "metadata": {
        "id": "dTSSChlhITcQ",
        "colab_type": "text"
      },
      "source": [
        "####Importing numpy package and importing keras modules Sequential (layers placed one after other linearly), Flatten (Data format will be changed to 1D), Convolutions2D (Provides convolutional layer in 2D spatial domain), Dropout(randomly sets some of the weights to 0 to prevent overfitting), Activation(provides activation functionality), Maxpooling2D (passes the maximum value within a kernel region to next layer). Also importing mnist dataset."
      ]
    },
    {
      "cell_type": "code",
      "metadata": {
        "id": "0SJyVpgSxHt4",
        "colab_type": "code",
        "outputId": "bdc361b8-0a51-4ec2-cbed-72e0019d5e1b",
        "colab": {
          "base_uri": "https://localhost:8080/",
          "height": 35
        }
      },
      "source": [
        "import numpy as np\n",
        "\n",
        "from keras.models import Sequential\n",
        "from keras.layers import Dense, Dropout, Activation, Flatten, Add, BatchNormalization\n",
        "from keras.layers import Convolution2D, MaxPooling2D\n",
        "from keras.utils import np_utils\n",
        "\n",
        "from keras.datasets import mnist\n",
        "from keras.preprocessing.image import ImageDataGenerator\n",
        "from keras import regularizers\n",
        "from keras.regularizers import l2\n",
        "from keras.callbacks import ModelCheckpoint\n",
        "from keras.models import load_model"
      ],
      "execution_count": 1,
      "outputs": [
        {
          "output_type": "stream",
          "text": [
            "Using TensorFlow backend.\n"
          ],
          "name": "stderr"
        }
      ]
    },
    {
      "cell_type": "markdown",
      "metadata": {
        "id": "63saUewLIibz",
        "colab_type": "text"
      },
      "source": [
        "####To load the MNIST dataset( contains 28x28 handwritten digit images). It has 60000 images for training and 10000 images for testing and is saved as X_train and X_test respectively. It labels them as y_train and y_test"
      ]
    },
    {
      "cell_type": "code",
      "metadata": {
        "id": "YlEUplvoxKAT",
        "colab_type": "code",
        "colab": {}
      },
      "source": [
        "(trainX, trainy), (testX, testy) = mnist.load_data()\n",
        "testX_orig=testX"
      ],
      "execution_count": 0,
      "outputs": []
    },
    {
      "cell_type": "markdown",
      "metadata": {
        "id": "Ipm9imWjIqwG",
        "colab_type": "text"
      },
      "source": [
        "#### The following block reshapes the training and testing image samples into 28x28x1"
      ]
    },
    {
      "cell_type": "code",
      "metadata": {
        "id": "lxDZxPhhxOgO",
        "colab_type": "code",
        "colab": {}
      },
      "source": [
        "trainX = trainX.reshape(trainX.shape[0], 28, 28,1)\n",
        "testX = testX.reshape(testX.shape[0], 28, 28,1)"
      ],
      "execution_count": 0,
      "outputs": []
    },
    {
      "cell_type": "markdown",
      "metadata": {
        "id": "s75Rzs4wIzEC",
        "colab_type": "text"
      },
      "source": [
        "#### The following block of code modifies the type of the image intensities to float and then normalizes the intensities to be within the range of 0-1"
      ]
    },
    {
      "cell_type": "code",
      "metadata": {
        "id": "3HzMqbTnxQQW",
        "colab_type": "code",
        "colab": {}
      },
      "source": [
        "trainX = trainX.astype('float32')\n",
        "testX = testX.astype('float32')\n",
        "trainX /= 255\n",
        "testX /= 255"
      ],
      "execution_count": 0,
      "outputs": []
    },
    {
      "cell_type": "markdown",
      "metadata": {
        "id": "cB6l9q4ZI8CJ",
        "colab_type": "text"
      },
      "source": [
        "####To convert 1D array to 10D array"
      ]
    },
    {
      "cell_type": "code",
      "metadata": {
        "id": "7LdYiW6ixR9e",
        "colab_type": "code",
        "colab": {}
      },
      "source": [
        "trainY = np_utils.to_categorical(trainy, 10)\n",
        "testY = np_utils.to_categorical(testy, 10)"
      ],
      "execution_count": 0,
      "outputs": []
    },
    {
      "cell_type": "markdown",
      "metadata": {
        "id": "b7f0uTFQI9eX",
        "colab_type": "text"
      },
      "source": [
        "#### Applying image normalization to both training and validation images"
      ]
    },
    {
      "cell_type": "code",
      "metadata": {
        "id": "dujksLPEnx9C",
        "colab_type": "code",
        "colab": {}
      },
      "source": [
        "# create generator that centers pixel values\n",
        "datagen = ImageDataGenerator(featurewise_center=True, featurewise_std_normalization=True)\n",
        "\n",
        "# demonstrate effect on a single batch of samples\n",
        "train_iterator = datagen.flow(trainX, trainY, batch_size=128)\n",
        "valid_iterator = datagen.flow(testX, testY, batch_size=128, shuffle='False')"
      ],
      "execution_count": 0,
      "outputs": []
    },
    {
      "cell_type": "markdown",
      "metadata": {
        "id": "HKtipRZ7JeGq",
        "colab_type": "text"
      },
      "source": [
        "### Model is Defined\n",
        "####The following are the highlights of this network:\n",
        "####1) Channels reduced and number of parameters reduced\n",
        "####2) Adaptive Learning rate is used\n",
        "####3) Batch size is increased\n",
        "####4) L2 Regularizer is used\n",
        "####5) Activation is applied post Batch normlization"
      ]
    },
    {
      "cell_type": "code",
      "metadata": {
        "id": "mDpXf4YQxXRm",
        "colab_type": "code",
        "outputId": "f135ef9b-e4f3-4734-d1a9-65d17e9fa1be",
        "colab": {
          "base_uri": "https://localhost:8080/",
          "height": 1563
        }
      },
      "source": [
        "from keras.layers import Activation\n",
        "model = Sequential()\n",
        " \n",
        "model.add(Convolution2D(16, 3, 3, input_shape=(28,28,1),kernel_regularizer=l2(0.0005))) #26\n",
        "model.add(BatchNormalization())\n",
        "model.add(Activation('relu'))\n",
        "model.add(Dropout(0.1))\n",
        "\n",
        "model.add(Convolution2D(32, 3, 3, kernel_regularizer=l2(0.0005))) #24\n",
        "model.add(BatchNormalization())\n",
        "model.add(Activation('relu'))\n",
        "model.add(Dropout(0.1))\n",
        "\n",
        "model.add(Convolution2D(10, 1, 1, kernel_regularizer=l2(0.0005))) #22\n",
        "model.add(Activation('relu'))\n",
        "\n",
        "model.add(MaxPooling2D(pool_size=(2, 2)))#11\n",
        "\n",
        "model.add(Convolution2D(16, 3, 3, kernel_regularizer=l2(0.0005)))#9\n",
        "model.add(BatchNormalization())\n",
        "model.add(Activation('relu'))\n",
        "model.add(Dropout(0.1))\n",
        "\n",
        "model.add(Convolution2D(16, 3, 3, kernel_regularizer=l2(0.0005)))#7\n",
        "model.add(BatchNormalization())\n",
        "model.add(Activation('relu'))\n",
        "model.add(Dropout(0.1))\n",
        "\n",
        "model.add(Convolution2D(16, 3, 3, kernel_regularizer=l2(0.0005)))#5\n",
        "model.add(BatchNormalization())\n",
        "model.add(Activation('relu'))\n",
        "model.add(Dropout(0.1))\n",
        "\n",
        "model.add(Convolution2D(16, 3, 3, kernel_regularizer=l2(0.0005)))#3\n",
        "model.add(BatchNormalization())\n",
        "model.add(Activation('relu'))\n",
        "model.add(Dropout(0.1))\n",
        "\n",
        "model.add(Convolution2D(10, 4, 4,kernel_regularizer=l2(0.0005)))\n",
        "model.add(BatchNormalization())\n",
        "model.add(Dropout(0.1))\n",
        "\n",
        "model.add(Flatten())\n",
        "model.add(Activation('softmax'))\n",
        "\n",
        "model.summary()"
      ],
      "execution_count": 7,
      "outputs": [
        {
          "output_type": "stream",
          "text": [
            "WARNING:tensorflow:From /usr/local/lib/python3.6/dist-packages/tensorflow/python/framework/op_def_library.py:263: colocate_with (from tensorflow.python.framework.ops) is deprecated and will be removed in a future version.\n",
            "Instructions for updating:\n",
            "Colocations handled automatically by placer.\n"
          ],
          "name": "stdout"
        },
        {
          "output_type": "stream",
          "text": [
            "/usr/local/lib/python3.6/dist-packages/ipykernel_launcher.py:4: UserWarning: Update your `Conv2D` call to the Keras 2 API: `Conv2D(16, (3, 3), input_shape=(28, 28, 1..., kernel_regularizer=<keras.reg...)`\n",
            "  after removing the cwd from sys.path.\n"
          ],
          "name": "stderr"
        },
        {
          "output_type": "stream",
          "text": [
            "WARNING:tensorflow:From /usr/local/lib/python3.6/dist-packages/keras/backend/tensorflow_backend.py:3445: calling dropout (from tensorflow.python.ops.nn_ops) with keep_prob is deprecated and will be removed in a future version.\n",
            "Instructions for updating:\n",
            "Please use `rate` instead of `keep_prob`. Rate should be set to `rate = 1 - keep_prob`.\n"
          ],
          "name": "stdout"
        },
        {
          "output_type": "stream",
          "text": [
            "/usr/local/lib/python3.6/dist-packages/ipykernel_launcher.py:9: UserWarning: Update your `Conv2D` call to the Keras 2 API: `Conv2D(32, (3, 3), kernel_regularizer=<keras.reg...)`\n",
            "  if __name__ == '__main__':\n",
            "/usr/local/lib/python3.6/dist-packages/ipykernel_launcher.py:14: UserWarning: Update your `Conv2D` call to the Keras 2 API: `Conv2D(10, (1, 1), kernel_regularizer=<keras.reg...)`\n",
            "  \n",
            "/usr/local/lib/python3.6/dist-packages/ipykernel_launcher.py:19: UserWarning: Update your `Conv2D` call to the Keras 2 API: `Conv2D(16, (3, 3), kernel_regularizer=<keras.reg...)`\n",
            "/usr/local/lib/python3.6/dist-packages/ipykernel_launcher.py:24: UserWarning: Update your `Conv2D` call to the Keras 2 API: `Conv2D(16, (3, 3), kernel_regularizer=<keras.reg...)`\n",
            "/usr/local/lib/python3.6/dist-packages/ipykernel_launcher.py:29: UserWarning: Update your `Conv2D` call to the Keras 2 API: `Conv2D(16, (3, 3), kernel_regularizer=<keras.reg...)`\n",
            "/usr/local/lib/python3.6/dist-packages/ipykernel_launcher.py:34: UserWarning: Update your `Conv2D` call to the Keras 2 API: `Conv2D(16, (3, 3), kernel_regularizer=<keras.reg...)`\n",
            "/usr/local/lib/python3.6/dist-packages/ipykernel_launcher.py:39: UserWarning: Update your `Conv2D` call to the Keras 2 API: `Conv2D(10, (4, 4), kernel_regularizer=<keras.reg...)`\n"
          ],
          "name": "stderr"
        },
        {
          "output_type": "stream",
          "text": [
            "_________________________________________________________________\n",
            "Layer (type)                 Output Shape              Param #   \n",
            "=================================================================\n",
            "conv2d_1 (Conv2D)            (None, 26, 26, 16)        160       \n",
            "_________________________________________________________________\n",
            "batch_normalization_1 (Batch (None, 26, 26, 16)        64        \n",
            "_________________________________________________________________\n",
            "activation_1 (Activation)    (None, 26, 26, 16)        0         \n",
            "_________________________________________________________________\n",
            "dropout_1 (Dropout)          (None, 26, 26, 16)        0         \n",
            "_________________________________________________________________\n",
            "conv2d_2 (Conv2D)            (None, 24, 24, 32)        4640      \n",
            "_________________________________________________________________\n",
            "batch_normalization_2 (Batch (None, 24, 24, 32)        128       \n",
            "_________________________________________________________________\n",
            "activation_2 (Activation)    (None, 24, 24, 32)        0         \n",
            "_________________________________________________________________\n",
            "dropout_2 (Dropout)          (None, 24, 24, 32)        0         \n",
            "_________________________________________________________________\n",
            "conv2d_3 (Conv2D)            (None, 24, 24, 10)        330       \n",
            "_________________________________________________________________\n",
            "activation_3 (Activation)    (None, 24, 24, 10)        0         \n",
            "_________________________________________________________________\n",
            "max_pooling2d_1 (MaxPooling2 (None, 12, 12, 10)        0         \n",
            "_________________________________________________________________\n",
            "conv2d_4 (Conv2D)            (None, 10, 10, 16)        1456      \n",
            "_________________________________________________________________\n",
            "batch_normalization_3 (Batch (None, 10, 10, 16)        64        \n",
            "_________________________________________________________________\n",
            "activation_4 (Activation)    (None, 10, 10, 16)        0         \n",
            "_________________________________________________________________\n",
            "dropout_3 (Dropout)          (None, 10, 10, 16)        0         \n",
            "_________________________________________________________________\n",
            "conv2d_5 (Conv2D)            (None, 8, 8, 16)          2320      \n",
            "_________________________________________________________________\n",
            "batch_normalization_4 (Batch (None, 8, 8, 16)          64        \n",
            "_________________________________________________________________\n",
            "activation_5 (Activation)    (None, 8, 8, 16)          0         \n",
            "_________________________________________________________________\n",
            "dropout_4 (Dropout)          (None, 8, 8, 16)          0         \n",
            "_________________________________________________________________\n",
            "conv2d_6 (Conv2D)            (None, 6, 6, 16)          2320      \n",
            "_________________________________________________________________\n",
            "batch_normalization_5 (Batch (None, 6, 6, 16)          64        \n",
            "_________________________________________________________________\n",
            "activation_6 (Activation)    (None, 6, 6, 16)          0         \n",
            "_________________________________________________________________\n",
            "dropout_5 (Dropout)          (None, 6, 6, 16)          0         \n",
            "_________________________________________________________________\n",
            "conv2d_7 (Conv2D)            (None, 4, 4, 16)          2320      \n",
            "_________________________________________________________________\n",
            "batch_normalization_6 (Batch (None, 4, 4, 16)          64        \n",
            "_________________________________________________________________\n",
            "activation_7 (Activation)    (None, 4, 4, 16)          0         \n",
            "_________________________________________________________________\n",
            "dropout_6 (Dropout)          (None, 4, 4, 16)          0         \n",
            "_________________________________________________________________\n",
            "conv2d_8 (Conv2D)            (None, 1, 1, 10)          2570      \n",
            "_________________________________________________________________\n",
            "batch_normalization_7 (Batch (None, 1, 1, 10)          40        \n",
            "_________________________________________________________________\n",
            "dropout_7 (Dropout)          (None, 1, 1, 10)          0         \n",
            "_________________________________________________________________\n",
            "flatten_1 (Flatten)          (None, 10)                0         \n",
            "_________________________________________________________________\n",
            "activation_8 (Activation)    (None, 10)                0         \n",
            "=================================================================\n",
            "Total params: 16,604\n",
            "Trainable params: 16,360\n",
            "Non-trainable params: 244\n",
            "_________________________________________________________________\n"
          ],
          "name": "stdout"
        }
      ]
    },
    {
      "cell_type": "markdown",
      "metadata": {
        "id": "TV1YAam-J3Sd",
        "colab_type": "text"
      },
      "source": [
        "#### Loss function is selected along with adam optimizer. Adaptive learning rate is used. Model to be saved when the validation accuracy is highest among the 40 epochs"
      ]
    },
    {
      "cell_type": "code",
      "metadata": {
        "id": "L2IicGJ4x3Be",
        "colab_type": "code",
        "outputId": "b7fe0a86-511d-4809-8d10-fb71f0171032",
        "colab": {
          "base_uri": "https://localhost:8080/",
          "height": 4405
        }
      },
      "source": [
        "from keras.optimizers import Adam\n",
        "from keras.callbacks import LearningRateScheduler\n",
        "def scheduler(epoch, lr):\n",
        "  return round(0.003 * 1/(1 + 0.319 * epoch), 10)\n",
        "\n",
        "model.compile(loss='categorical_crossentropy', optimizer=Adam(lr=0.003), metrics=['accuracy'])\n",
        "\n",
        "mcp_save = ModelCheckpoint('.mdl_wts.hdf5', save_best_only=True, monitor='val_acc', verbose=1)\n",
        "\n",
        "model.fit_generator(train_iterator, steps_per_epoch=512,nb_epoch=40, verbose=1, validation_data=valid_iterator, validation_steps=64, callbacks=[mcp_save,LearningRateScheduler(scheduler, verbose=1)])"
      ],
      "execution_count": 8,
      "outputs": [
        {
          "output_type": "stream",
          "text": [
            "WARNING:tensorflow:From /usr/local/lib/python3.6/dist-packages/tensorflow/python/ops/math_ops.py:3066: to_int32 (from tensorflow.python.ops.math_ops) is deprecated and will be removed in a future version.\n",
            "Instructions for updating:\n",
            "Use tf.cast instead.\n"
          ],
          "name": "stdout"
        },
        {
          "output_type": "stream",
          "text": [
            "/usr/local/lib/python3.6/dist-packages/ipykernel_launcher.py:10: UserWarning: The semantics of the Keras 2 argument `steps_per_epoch` is not the same as the Keras 1 argument `samples_per_epoch`. `steps_per_epoch` is the number of batches to draw from the generator at each epoch. Basically steps_per_epoch = samples_per_epoch/batch_size. Similarly `nb_val_samples`->`validation_steps` and `val_samples`->`steps` arguments have changed. Update your method calls accordingly.\n",
            "  # Remove the CWD from sys.path while we load stuff.\n",
            "/usr/local/lib/python3.6/dist-packages/ipykernel_launcher.py:10: UserWarning: Update your `fit_generator` call to the Keras 2 API: `fit_generator(<keras_pre..., steps_per_epoch=512, verbose=1, validation_data=<keras_pre..., validation_steps=64, callbacks=[<keras.ca..., epochs=40)`\n",
            "  # Remove the CWD from sys.path while we load stuff.\n"
          ],
          "name": "stderr"
        },
        {
          "output_type": "stream",
          "text": [
            "Epoch 1/40\n"
          ],
          "name": "stdout"
        },
        {
          "output_type": "stream",
          "text": [
            "/usr/local/lib/python3.6/dist-packages/keras_preprocessing/image/image_data_generator.py:699: UserWarning: This ImageDataGenerator specifies `featurewise_center`, but it hasn't been fit on any training data. Fit it first by calling `.fit(numpy_data)`.\n",
            "  warnings.warn('This ImageDataGenerator specifies '\n",
            "/usr/local/lib/python3.6/dist-packages/keras_preprocessing/image/image_data_generator.py:707: UserWarning: This ImageDataGenerator specifies `featurewise_std_normalization`, but it hasn't been fit on any training data. Fit it first by calling `.fit(numpy_data)`.\n",
            "  warnings.warn('This ImageDataGenerator specifies '\n"
          ],
          "name": "stderr"
        },
        {
          "output_type": "stream",
          "text": [
            "\n",
            "Epoch 00001: LearningRateScheduler setting learning rate to 0.003.\n",
            "512/512 [==============================] - 11s 21ms/step - loss: 0.5735 - acc: 0.8525 - val_loss: 0.2258 - val_acc: 0.9741\n",
            "\n",
            "Epoch 00001: val_acc improved from -inf to 0.97412, saving model to .mdl_wts.hdf5\n",
            "Epoch 2/40\n",
            "\n",
            "Epoch 00002: LearningRateScheduler setting learning rate to 0.0022744503.\n",
            "512/512 [==============================] - 8s 16ms/step - loss: 0.2907 - acc: 0.9255 - val_loss: 0.1151 - val_acc: 0.9858\n",
            "\n",
            "Epoch 00002: val_acc improved from 0.97412 to 0.98577, saving model to .mdl_wts.hdf5\n",
            "Epoch 3/40\n",
            "\n",
            "Epoch 00003: LearningRateScheduler setting learning rate to 0.0018315018.\n",
            "512/512 [==============================] - 8s 16ms/step - loss: 0.2315 - acc: 0.9403 - val_loss: 0.0779 - val_acc: 0.9908\n",
            "\n",
            "Epoch 00003: val_acc improved from 0.98577 to 0.99084, saving model to .mdl_wts.hdf5\n",
            "Epoch 4/40\n",
            "\n",
            "Epoch 00004: LearningRateScheduler setting learning rate to 0.0015329586.\n",
            "512/512 [==============================] - 8s 16ms/step - loss: 0.2028 - acc: 0.9450 - val_loss: 0.0773 - val_acc: 0.9908\n",
            "\n",
            "Epoch 00004: val_acc did not improve from 0.99084\n",
            "Epoch 5/40\n",
            "\n",
            "Epoch 00005: LearningRateScheduler setting learning rate to 0.0013181019.\n",
            "512/512 [==============================] - 8s 16ms/step - loss: 0.1812 - acc: 0.9503 - val_loss: 0.0706 - val_acc: 0.9902\n",
            "\n",
            "Epoch 00005: val_acc did not improve from 0.99084\n",
            "Epoch 6/40\n",
            "\n",
            "Epoch 00006: LearningRateScheduler setting learning rate to 0.0011560694.\n",
            "512/512 [==============================] - 8s 16ms/step - loss: 0.1703 - acc: 0.9494 - val_loss: 0.0603 - val_acc: 0.9923\n",
            "\n",
            "Epoch 00006: val_acc improved from 0.99084 to 0.99231, saving model to .mdl_wts.hdf5\n",
            "Epoch 7/40\n",
            "\n",
            "Epoch 00007: LearningRateScheduler setting learning rate to 0.0010295127.\n",
            "512/512 [==============================] - 8s 16ms/step - loss: 0.1566 - acc: 0.9522 - val_loss: 0.0533 - val_acc: 0.9933\n",
            "\n",
            "Epoch 00007: val_acc improved from 0.99231 to 0.99332, saving model to .mdl_wts.hdf5\n",
            "Epoch 8/40\n",
            "\n",
            "Epoch 00008: LearningRateScheduler setting learning rate to 0.0009279307.\n",
            "512/512 [==============================] - 8s 16ms/step - loss: 0.1524 - acc: 0.9519 - val_loss: 0.0549 - val_acc: 0.9932\n",
            "\n",
            "Epoch 00008: val_acc did not improve from 0.99332\n",
            "Epoch 9/40\n",
            "\n",
            "Epoch 00009: LearningRateScheduler setting learning rate to 0.0008445946.\n",
            "512/512 [==============================] - 8s 15ms/step - loss: 0.1464 - acc: 0.9523 - val_loss: 0.0473 - val_acc: 0.9932\n",
            "\n",
            "Epoch 00009: val_acc did not improve from 0.99332\n",
            "Epoch 10/40\n",
            "\n",
            "Epoch 00010: LearningRateScheduler setting learning rate to 0.0007749935.\n",
            "512/512 [==============================] - 8s 16ms/step - loss: 0.1387 - acc: 0.9534 - val_loss: 0.0493 - val_acc: 0.9927\n",
            "\n",
            "Epoch 00010: val_acc did not improve from 0.99332\n",
            "Epoch 11/40\n",
            "\n",
            "Epoch 00011: LearningRateScheduler setting learning rate to 0.0007159905.\n",
            "512/512 [==============================] - 8s 16ms/step - loss: 0.1353 - acc: 0.9539 - val_loss: 0.0450 - val_acc: 0.9923\n",
            "\n",
            "Epoch 00011: val_acc did not improve from 0.99332\n",
            "Epoch 12/40\n",
            "\n",
            "Epoch 00012: LearningRateScheduler setting learning rate to 0.000665336.\n",
            "512/512 [==============================] - 8s 16ms/step - loss: 0.1300 - acc: 0.9543 - val_loss: 0.0405 - val_acc: 0.9953\n",
            "\n",
            "Epoch 00012: val_acc improved from 0.99332 to 0.99530, saving model to .mdl_wts.hdf5\n",
            "Epoch 13/40\n",
            "\n",
            "Epoch 00013: LearningRateScheduler setting learning rate to 0.0006213753.\n",
            "512/512 [==============================] - 8s 15ms/step - loss: 0.1262 - acc: 0.9551 - val_loss: 0.0471 - val_acc: 0.9922\n",
            "\n",
            "Epoch 00013: val_acc did not improve from 0.99530\n",
            "Epoch 14/40\n",
            "\n",
            "Epoch 00014: LearningRateScheduler setting learning rate to 0.0005828638.\n",
            "512/512 [==============================] - 8s 16ms/step - loss: 0.1262 - acc: 0.9551 - val_loss: 0.0417 - val_acc: 0.9943\n",
            "\n",
            "Epoch 00014: val_acc did not improve from 0.99530\n",
            "Epoch 15/40\n",
            "\n",
            "Epoch 00015: LearningRateScheduler setting learning rate to 0.0005488474.\n",
            "512/512 [==============================] - 8s 16ms/step - loss: 0.1212 - acc: 0.9562 - val_loss: 0.0440 - val_acc: 0.9910\n",
            "\n",
            "Epoch 00015: val_acc did not improve from 0.99530\n",
            "Epoch 16/40\n",
            "\n",
            "Epoch 00016: LearningRateScheduler setting learning rate to 0.0005185825.\n",
            "512/512 [==============================] - 8s 16ms/step - loss: 0.1195 - acc: 0.9565 - val_loss: 0.0385 - val_acc: 0.9945\n",
            "\n",
            "Epoch 00016: val_acc did not improve from 0.99530\n",
            "Epoch 17/40\n",
            "\n",
            "Epoch 00017: LearningRateScheduler setting learning rate to 0.000491481.\n",
            "512/512 [==============================] - 8s 16ms/step - loss: 0.1171 - acc: 0.9567 - val_loss: 0.0457 - val_acc: 0.9922\n",
            "\n",
            "Epoch 00017: val_acc did not improve from 0.99530\n",
            "Epoch 18/40\n",
            "\n",
            "Epoch 00018: LearningRateScheduler setting learning rate to 0.0004670715.\n",
            "512/512 [==============================] - 8s 16ms/step - loss: 0.1177 - acc: 0.9558 - val_loss: 0.0375 - val_acc: 0.9947\n",
            "\n",
            "Epoch 00018: val_acc did not improve from 0.99530\n",
            "Epoch 19/40\n",
            "\n",
            "Epoch 00019: LearningRateScheduler setting learning rate to 0.0004449718.\n",
            "512/512 [==============================] - 8s 16ms/step - loss: 0.1166 - acc: 0.9560 - val_loss: 0.0368 - val_acc: 0.9941\n",
            "\n",
            "Epoch 00019: val_acc did not improve from 0.99530\n",
            "Epoch 20/40\n",
            "\n",
            "Epoch 00020: LearningRateScheduler setting learning rate to 0.000424869.\n",
            "512/512 [==============================] - 8s 16ms/step - loss: 0.1144 - acc: 0.9563 - val_loss: 0.0340 - val_acc: 0.9960\n",
            "\n",
            "Epoch 00020: val_acc improved from 0.99530 to 0.99604, saving model to .mdl_wts.hdf5\n",
            "Epoch 21/40\n",
            "\n",
            "Epoch 00021: LearningRateScheduler setting learning rate to 0.0004065041.\n",
            "512/512 [==============================] - 8s 15ms/step - loss: 0.1130 - acc: 0.9569 - val_loss: 0.0346 - val_acc: 0.9957\n",
            "\n",
            "Epoch 00021: val_acc did not improve from 0.99604\n",
            "Epoch 22/40\n",
            "\n",
            "Epoch 00022: LearningRateScheduler setting learning rate to 0.000389661.\n",
            "512/512 [==============================] - 8s 15ms/step - loss: 0.1109 - acc: 0.9562 - val_loss: 0.0347 - val_acc: 0.9949\n",
            "\n",
            "Epoch 00022: val_acc did not improve from 0.99604\n",
            "Epoch 23/40\n",
            "\n",
            "Epoch 00023: LearningRateScheduler setting learning rate to 0.0003741581.\n",
            "512/512 [==============================] - 8s 16ms/step - loss: 0.1092 - acc: 0.9575 - val_loss: 0.0359 - val_acc: 0.9953\n",
            "\n",
            "Epoch 00023: val_acc did not improve from 0.99604\n",
            "Epoch 24/40\n",
            "\n",
            "Epoch 00024: LearningRateScheduler setting learning rate to 0.0003598417.\n",
            "512/512 [==============================] - 8s 16ms/step - loss: 0.1082 - acc: 0.9580 - val_loss: 0.0326 - val_acc: 0.9955\n",
            "\n",
            "Epoch 00024: val_acc did not improve from 0.99604\n",
            "Epoch 25/40\n",
            "\n",
            "Epoch 00025: LearningRateScheduler setting learning rate to 0.0003465804.\n",
            "512/512 [==============================] - 8s 16ms/step - loss: 0.1099 - acc: 0.9562 - val_loss: 0.0380 - val_acc: 0.9941\n",
            "\n",
            "Epoch 00025: val_acc did not improve from 0.99604\n",
            "Epoch 26/40\n",
            "\n",
            "Epoch 00026: LearningRateScheduler setting learning rate to 0.0003342618.\n",
            "512/512 [==============================] - 8s 16ms/step - loss: 0.1054 - acc: 0.9582 - val_loss: 0.0288 - val_acc: 0.9954\n",
            "\n",
            "Epoch 00026: val_acc did not improve from 0.99604\n",
            "Epoch 27/40\n",
            "\n",
            "Epoch 00027: LearningRateScheduler setting learning rate to 0.0003227889.\n",
            "512/512 [==============================] - 8s 15ms/step - loss: 0.1057 - acc: 0.9595 - val_loss: 0.0325 - val_acc: 0.9954\n",
            "\n",
            "Epoch 00027: val_acc did not improve from 0.99604\n",
            "Epoch 28/40\n",
            "\n",
            "Epoch 00028: LearningRateScheduler setting learning rate to 0.0003120774.\n",
            "512/512 [==============================] - 8s 16ms/step - loss: 0.1050 - acc: 0.9588 - val_loss: 0.0360 - val_acc: 0.9939\n",
            "\n",
            "Epoch 00028: val_acc did not improve from 0.99604\n",
            "Epoch 29/40\n",
            "\n",
            "Epoch 00029: LearningRateScheduler setting learning rate to 0.000302054.\n",
            "512/512 [==============================] - 8s 15ms/step - loss: 0.1027 - acc: 0.9583 - val_loss: 0.0319 - val_acc: 0.9959\n",
            "\n",
            "Epoch 00029: val_acc did not improve from 0.99604\n",
            "Epoch 30/40\n",
            "\n",
            "Epoch 00030: LearningRateScheduler setting learning rate to 0.0002926544.\n",
            "512/512 [==============================] - 8s 16ms/step - loss: 0.1033 - acc: 0.9588 - val_loss: 0.0309 - val_acc: 0.9953\n",
            "\n",
            "Epoch 00030: val_acc did not improve from 0.99604\n",
            "Epoch 31/40\n",
            "\n",
            "Epoch 00031: LearningRateScheduler setting learning rate to 0.0002838221.\n",
            "512/512 [==============================] - 8s 16ms/step - loss: 0.1016 - acc: 0.9586 - val_loss: 0.0305 - val_acc: 0.9957\n",
            "\n",
            "Epoch 00031: val_acc did not improve from 0.99604\n",
            "Epoch 32/40\n",
            "\n",
            "Epoch 00032: LearningRateScheduler setting learning rate to 0.0002755074.\n",
            "512/512 [==============================] - 8s 16ms/step - loss: 0.0999 - acc: 0.9591 - val_loss: 0.0323 - val_acc: 0.9949\n",
            "\n",
            "Epoch 00032: val_acc did not improve from 0.99604\n",
            "Epoch 33/40\n",
            "\n",
            "Epoch 00033: LearningRateScheduler setting learning rate to 0.000267666.\n",
            "512/512 [==============================] - 8s 16ms/step - loss: 0.1025 - acc: 0.9578 - val_loss: 0.0311 - val_acc: 0.9947\n",
            "\n",
            "Epoch 00033: val_acc did not improve from 0.99604\n",
            "Epoch 34/40\n",
            "\n",
            "Epoch 00034: LearningRateScheduler setting learning rate to 0.0002602585.\n",
            "512/512 [==============================] - 8s 16ms/step - loss: 0.0984 - acc: 0.9591 - val_loss: 0.0339 - val_acc: 0.9946\n",
            "\n",
            "Epoch 00034: val_acc did not improve from 0.99604\n",
            "Epoch 35/40\n",
            "\n",
            "Epoch 00035: LearningRateScheduler setting learning rate to 0.00025325.\n",
            "512/512 [==============================] - 8s 16ms/step - loss: 0.1011 - acc: 0.9584 - val_loss: 0.0306 - val_acc: 0.9953\n",
            "\n",
            "Epoch 00035: val_acc did not improve from 0.99604\n",
            "Epoch 36/40\n",
            "\n",
            "Epoch 00036: LearningRateScheduler setting learning rate to 0.0002466091.\n",
            "512/512 [==============================] - 8s 16ms/step - loss: 0.0983 - acc: 0.9597 - val_loss: 0.0346 - val_acc: 0.9944\n",
            "\n",
            "Epoch 00036: val_acc did not improve from 0.99604\n",
            "Epoch 37/40\n",
            "\n",
            "Epoch 00037: LearningRateScheduler setting learning rate to 0.0002403076.\n",
            "512/512 [==============================] - 8s 16ms/step - loss: 0.0995 - acc: 0.9591 - val_loss: 0.0326 - val_acc: 0.9950\n",
            "\n",
            "Epoch 00037: val_acc did not improve from 0.99604\n",
            "Epoch 38/40\n",
            "\n",
            "Epoch 00038: LearningRateScheduler setting learning rate to 0.0002343201.\n",
            "512/512 [==============================] - 8s 16ms/step - loss: 0.0981 - acc: 0.9589 - val_loss: 0.0301 - val_acc: 0.9955\n",
            "\n",
            "Epoch 00038: val_acc did not improve from 0.99604\n",
            "Epoch 39/40\n",
            "\n",
            "Epoch 00039: LearningRateScheduler setting learning rate to 0.0002286237.\n",
            "512/512 [==============================] - 8s 16ms/step - loss: 0.1010 - acc: 0.9575 - val_loss: 0.0304 - val_acc: 0.9954\n",
            "\n",
            "Epoch 00039: val_acc did not improve from 0.99604\n",
            "Epoch 40/40\n",
            "\n",
            "Epoch 00040: LearningRateScheduler setting learning rate to 0.0002231977.\n",
            "512/512 [==============================] - 8s 16ms/step - loss: 0.0964 - acc: 0.9591 - val_loss: 0.0298 - val_acc: 0.9958\n",
            "\n",
            "Epoch 00040: val_acc did not improve from 0.99604\n"
          ],
          "name": "stdout"
        },
        {
          "output_type": "execute_result",
          "data": {
            "text/plain": [
              "<keras.callbacks.History at 0x7f2d33593198>"
            ]
          },
          "metadata": {
            "tags": []
          },
          "execution_count": 8
        }
      ]
    },
    {
      "cell_type": "markdown",
      "metadata": {
        "id": "A84L4P4uMjrn",
        "colab_type": "text"
      },
      "source": [
        "### Got Validation accuracy of 99.60 %"
      ]
    },
    {
      "cell_type": "markdown",
      "metadata": {
        "id": "GGhiDQb_KEVy",
        "colab_type": "text"
      },
      "source": [
        "#### Model is evaluated on validation data"
      ]
    },
    {
      "cell_type": "code",
      "metadata": {
        "id": "WLxlW9ufyQiO",
        "colab_type": "code",
        "outputId": "9f5572ed-07e5-42a3-fdc9-2b14d85f7d2d",
        "colab": {
          "base_uri": "https://localhost:8080/",
          "height": 141
        }
      },
      "source": [
        "score = model.evaluate_generator(valid_iterator, steps=testX.shape[0]//128, verbose=1)\n",
        "print(score)"
      ],
      "execution_count": 9,
      "outputs": [
        {
          "output_type": "stream",
          "text": [
            "43/78 [===============>..............] - ETA: 0s"
          ],
          "name": "stdout"
        },
        {
          "output_type": "stream",
          "text": [
            "/usr/local/lib/python3.6/dist-packages/keras_preprocessing/image/image_data_generator.py:699: UserWarning: This ImageDataGenerator specifies `featurewise_center`, but it hasn't been fit on any training data. Fit it first by calling `.fit(numpy_data)`.\n",
            "  warnings.warn('This ImageDataGenerator specifies '\n",
            "/usr/local/lib/python3.6/dist-packages/keras_preprocessing/image/image_data_generator.py:707: UserWarning: This ImageDataGenerator specifies `featurewise_std_normalization`, but it hasn't been fit on any training data. Fit it first by calling `.fit(numpy_data)`.\n",
            "  warnings.warn('This ImageDataGenerator specifies '\n"
          ],
          "name": "stderr"
        },
        {
          "output_type": "stream",
          "text": [
            "78/78 [==============================] - 0s 4ms/step\n",
            "[0.033263134157263965, 0.9945299837925445]\n"
          ],
          "name": "stdout"
        }
      ]
    },
    {
      "cell_type": "markdown",
      "metadata": {
        "id": "qptDKaFOMslH",
        "colab_type": "text"
      },
      "source": [
        "### Got evaluation accuracy of 99.45%"
      ]
    },
    {
      "cell_type": "markdown",
      "metadata": {
        "id": "P_kSJMpIKH-d",
        "colab_type": "text"
      },
      "source": [
        "####Best model that was saved is retrieved"
      ]
    },
    {
      "cell_type": "code",
      "metadata": {
        "id": "9t0UtmOyDReZ",
        "colab_type": "code",
        "colab": {}
      },
      "source": [
        "best_model = load_model('.mdl_wts.hdf5')"
      ],
      "execution_count": 0,
      "outputs": []
    },
    {
      "cell_type": "markdown",
      "metadata": {
        "id": "QazI3WuOKPlR",
        "colab_type": "text"
      },
      "source": [
        "#### Classes are predicted in the testing images using the saved best model"
      ]
    },
    {
      "cell_type": "code",
      "metadata": {
        "id": "64wVuiCS1S0a",
        "colab_type": "code",
        "outputId": "4b9651ca-3b51-4e6a-b4ff-3029957ab3c9",
        "colab": {
          "base_uri": "https://localhost:8080/",
          "height": 124
        }
      },
      "source": [
        "predY = best_model.predict_generator(datagen.flow(testX, testY, batch_size=128, shuffle=False),steps=np.ceil(len(testX)/128), verbose=1, workers=0)  "
      ],
      "execution_count": 11,
      "outputs": [
        {
          "output_type": "stream",
          "text": [
            "/usr/local/lib/python3.6/dist-packages/keras_preprocessing/image/image_data_generator.py:699: UserWarning: This ImageDataGenerator specifies `featurewise_center`, but it hasn't been fit on any training data. Fit it first by calling `.fit(numpy_data)`.\n",
            "  warnings.warn('This ImageDataGenerator specifies '\n",
            "/usr/local/lib/python3.6/dist-packages/keras_preprocessing/image/image_data_generator.py:707: UserWarning: This ImageDataGenerator specifies `featurewise_std_normalization`, but it hasn't been fit on any training data. Fit it first by calling `.fit(numpy_data)`.\n",
            "  warnings.warn('This ImageDataGenerator specifies '\n"
          ],
          "name": "stderr"
        },
        {
          "output_type": "stream",
          "text": [
            "79/79 [==============================] - 1s 8ms/step\n"
          ],
          "name": "stdout"
        }
      ]
    },
    {
      "cell_type": "markdown",
      "metadata": {
        "id": "Ee3hkuHcKczB",
        "colab_type": "text"
      },
      "source": [
        "#### Original test image labels and predicted labels are captured"
      ]
    },
    {
      "cell_type": "code",
      "metadata": {
        "id": "oR-QfW2lr0oi",
        "colab_type": "code",
        "colab": {}
      },
      "source": [
        "testY_label=np.argmax(testY,axis=1)\n",
        "predY_label=np.argmax(predY,axis=1)"
      ],
      "execution_count": 0,
      "outputs": []
    },
    {
      "cell_type": "markdown",
      "metadata": {
        "id": "dx74PdYvKnzR",
        "colab_type": "text"
      },
      "source": [
        "#### The indexes of the test images that are misclassified are obtained"
      ]
    },
    {
      "cell_type": "code",
      "metadata": {
        "id": "bcI6SwV-4DAb",
        "colab_type": "code",
        "colab": {}
      },
      "source": [
        "n=len(testY)\n",
        "c=[]\n",
        "for i in range(n):\n",
        "    if predY_label[i]!=testY_label[i]:\n",
        "        c.append(i)"
      ],
      "execution_count": 0,
      "outputs": []
    },
    {
      "cell_type": "markdown",
      "metadata": {
        "id": "yvVwcT1lKzLs",
        "colab_type": "text"
      },
      "source": [
        "#### To print the misclassified label indexes of test images"
      ]
    },
    {
      "cell_type": "code",
      "metadata": {
        "id": "8X9Qba235NxM",
        "colab_type": "code",
        "outputId": "713b2c3d-cf63-4ca7-89da-92f66d252d6b",
        "colab": {
          "base_uri": "https://localhost:8080/",
          "height": 72
        }
      },
      "source": [
        "print(c)\n",
        "len(c)"
      ],
      "execution_count": 14,
      "outputs": [
        {
          "output_type": "stream",
          "text": [
            "[321, 359, 445, 449, 625, 646, 938, 947, 956, 1014, 1232, 1299, 1530, 1878, 1901, 2035, 2130, 2135, 2414, 2454, 2597, 2654, 2896, 3030, 3225, 3337, 3422, 3558, 4176, 4201, 4369, 4497, 4699, 4740, 4761, 4814, 5937, 6571, 6576, 6597, 6651, 8408, 8527, 9638, 9642, 9664, 9729]\n"
          ],
          "name": "stdout"
        },
        {
          "output_type": "execute_result",
          "data": {
            "text/plain": [
              "47"
            ]
          },
          "metadata": {
            "tags": []
          },
          "execution_count": 14
        }
      ]
    },
    {
      "cell_type": "markdown",
      "metadata": {
        "id": "XKP1jRnyK4Bf",
        "colab_type": "text"
      },
      "source": [
        "#### Test image predicted classes accuracy is obtained"
      ]
    },
    {
      "cell_type": "code",
      "metadata": {
        "id": "tIdniFtXNV73",
        "colab_type": "code",
        "outputId": "299e043b-826f-48ff-e3cf-c963e7d36316",
        "colab": {
          "base_uri": "https://localhost:8080/",
          "height": 35
        }
      },
      "source": [
        "predicted_accuracy = sum([predY_label[j]==testY_label[j] for j in range(n)])/n\n",
        "print(predicted_accuracy)"
      ],
      "execution_count": 15,
      "outputs": [
        {
          "output_type": "stream",
          "text": [
            "0.9953\n"
          ],
          "name": "stdout"
        }
      ]
    },
    {
      "cell_type": "markdown",
      "metadata": {
        "id": "Vhuy_9EKMyAg",
        "colab_type": "text"
      },
      "source": [
        "### Got Prediction accuracy of 99.53%"
      ]
    },
    {
      "cell_type": "markdown",
      "metadata": {
        "id": "shDgnBm3K-jJ",
        "colab_type": "text"
      },
      "source": [
        "#### To plot the 1st 25 misclassified test images."
      ]
    },
    {
      "cell_type": "code",
      "metadata": {
        "id": "f4TpjAbz7IPi",
        "colab_type": "code",
        "colab": {
          "base_uri": "https://localhost:8080/",
          "height": 6065
        },
        "outputId": "6ed4a78a-3cd8-4429-dd48-e114275bc671"
      },
      "source": [
        "import matplotlib.pyplot as plt\n",
        "c=c[0:25]\n",
        "\n",
        "fig, ax = plt.subplots(5, 5, figsize=(28, 28))\n",
        "for k in range(1,25):\n",
        "  idx=c[k]\n",
        "  z=testX_orig[idx]\n",
        "  %matplotlib inline\n",
        "  plt.imshow(z)\n",
        "  plt.show()"
      ],
      "execution_count": 16,
      "outputs": [
        {
          "output_type": "display_data",
          "data": {
            "image/png": "[encoded data removed]",
            "text/plain": [
              "<Figure size 432x288 with 1 Axes>"
            ]
          },
          "metadata": {
            "tags": []
          }
        },
        {
          "output_type": "display_data",
          "data": {
            "image/png": "[encoded data removed]",
            "text/plain": [
              "<Figure size 432x288 with 1 Axes>"
            ]
          },
          "metadata": {
            "tags": []
          }
        },
        {
          "output_type": "display_data",
          "data": {
            "image/png": "[encoded data removed]",
            "text/plain": [
              "<Figure size 432x288 with 1 Axes>"
            ]
          },
          "metadata": {
            "tags": []
          }
        },
        {
          "output_type": "display_data",
          "data": {
            "image/png": "[encoded data removed]",
            "text/plain": [
              "<Figure size 432x288 with 1 Axes>"
            ]
          },
          "metadata": {
            "tags": []
          }
        },
        {
          "output_type": "display_data",
          "data": {
            "image/png": "[encoded data removed]",
            "text/plain": [
              "<Figure size 432x288 with 1 Axes>"
            ]
          },
          "metadata": {
            "tags": []
          }
        },
        {
          "output_type": "display_data",
          "data": {
            "image/png": "[encoded data removed]",
            "text/plain": [
              "<Figure size 432x288 with 1 Axes>"
            ]
          },
          "metadata": {
            "tags": []
          }
        },
        {
          "output_type": "display_data",
          "data": {
            "image/png": "[encoded data removed]",
            "text/plain": [
              "<Figure size 432x288 with 1 Axes>"
            ]
          },
          "metadata": {
            "tags": []
          }
        },
        {
          "output_type": "display_data",
          "data": {
            "image/png": "[encoded data removed]",
            "text/plain": [
              "<Figure size 432x288 with 1 Axes>"
            ]
          },
          "metadata": {
            "tags": []
          }
        },
        {
          "output_type": "display_data",
          "data": {
            "image/png": "[encoded data removed]",
            "text/plain": [
              "<Figure size 432x288 with 1 Axes>"
            ]
          },
          "metadata": {
            "tags": []
          }
        },
        {
          "output_type": "display_data",
          "data": {
            "image/png": "[encoded data removed]",
            "text/plain": [
              "<Figure size 432x288 with 1 Axes>"
            ]
          },
          "metadata": {
            "tags": []
          }
        },
        {
          "output_type": "display_data",
          "data": {
            "image/png": "[encoded data removed]",
            "text/plain": [
              "<Figure size 432x288 with 1 Axes>"
            ]
          },
          "metadata": {
            "tags": []
          }
        },
        {
          "output_type": "display_data",
          "data": {
            "image/png": "[encoded data removed]",
            "text/plain": [
              "<Figure size 432x288 with 1 Axes>"
            ]
          },
          "metadata": {
            "tags": []
          }
        },
        {
          "output_type": "display_data",
          "data": {
            "image/png": "[encoded data removed]",
            "text/plain": [
              "<Figure size 432x288 with 1 Axes>"
            ]
          },
          "metadata": {
            "tags": []
          }
        },
        {
          "output_type": "display_data",
          "data": {
            "image/png": "[encoded data removed]",
            "text/plain": [
              "<Figure size 432x288 with 1 Axes>"
            ]
          },
          "metadata": {
            "tags": []
          }
        },
        {
          "output_type": "display_data",
          "data": {
            "image/png": "[encoded data removed]",
            "text/plain": [
              "<Figure size 432x288 with 1 Axes>"
            ]
          },
          "metadata": {
            "tags": []
          }
        },
        {
          "output_type": "display_data",
          "data": {
            "image/png": "[encoded data removed]",
            "text/plain": [
              "<Figure size 432x288 with 1 Axes>"
            ]
          },
          "metadata": {
            "tags": []
          }
        },
        {
          "output_type": "display_data",
          "data": {
            "image/png": "[encoded data removed]",
            "text/plain": [
              "<Figure size 432x288 with 1 Axes>"
            ]
          },
          "metadata": {
            "tags": []
          }
        },
        {
          "output_type": "display_data",
          "data": {
            "image/png": "[encoded data removed]",
            "text/plain": [
              "<Figure size 432x288 with 1 Axes>"
            ]
          },
          "metadata": {
            "tags": []
          }
        },
        {
          "output_type": "display_data",
          "data": {
            "image/png": "[encoded data removed]",
            "text/plain": [
              "<Figure size 432x288 with 1 Axes>"
            ]
          },
          "metadata": {
            "tags": []
          }
        },
        {
          "output_type": "display_data",
          "data": {
            "image/png": "[encoded data removed]",
            "text/plain": [
              "<Figure size 432x288 with 1 Axes>"
            ]
          },
          "metadata": {
            "tags": []
          }
        },
        {
          "output_type": "display_data",
          "data": {
            "image/png": "[encoded data removed]",
            "text/plain": [
              "<Figure size 432x288 with 1 Axes>"
            ]
          },
          "metadata": {
            "tags": []
          }
        },
        {
          "output_type": "display_data",
          "data": {
            "image/png": "[encoded data removed]",
            "text/plain": [
              "<Figure size 432x288 with 1 Axes>"
            ]
          },
          "metadata": {
            "tags": []
          }
        },
        {
          "output_type": "display_data",
          "data": {
            "image/png": "[encoded data removed]",
            "text/plain": [
              "<Figure size 432x288 with 1 Axes>"
            ]
          },
          "metadata": {
            "tags": []
          }
        },
        {
          "output_type": "display_data",
          "data": {
            "image/png": "[encoded data removed]",
            "text/plain": [
              "<Figure size 432x288 with 1 Axes>"
            ]
          },
          "metadata": {
            "tags": []
          }
        }
      ]
    }
  ]
}